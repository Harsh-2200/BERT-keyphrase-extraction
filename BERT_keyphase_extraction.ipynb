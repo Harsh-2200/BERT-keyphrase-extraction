{
 "cells": [
  {
   "cell_type": "code",
   "execution_count": null,
   "metadata": {
    "colab": {
     "base_uri": "https://localhost:8080/"
    },
    "id": "6Wcuvih8pQsB",
    "outputId": "05b07c66-1c46-41f3-c512-26bc194c6c7d"
   },
   "outputs": [],
   "source": [
    "!git clone https://github.com/Harsh-2200/BERT-keyphrase-extraction.git\n",
    "\n",
    "%cd /content/BERT-keyphrase-extraction/"
   ]
  },
  {
   "cell_type": "code",
   "execution_count": 20,
   "metadata": {
    "colab": {
     "base_uri": "https://localhost:8080/"
    },
    "id": "3d4zRWfxtpKP",
    "outputId": "6c199802-9869-43de-959a-ecccc34f859a",
    "scrolled": true
   },
   "outputs": [
    {
     "name": "stderr",
     "output_type": "stream",
     "text": [
      "device: cpu, n_gpu: 0, 16-bits training: False\n",
      "Loading the datasets...\n",
      "loading vocabulary file https://s3.amazonaws.com/models.huggingface.co/bert/bert-base-uncased-vocab.txt from cache at C:\\Users\\Harsh\\.pytorch_pretrained_bert\\26bc1ad6c0ac742e9b52263248f6d0f00068293b33709fae12320c0e35ccfbbb.542ce4285a40d23a559526243235df47c5f75c197f04f37d1a0c124c32c9a084\n",
      "Traceback (most recent call last):\n",
      "  File \"C:\\Users\\Harsh\\Desktop\\BERT-keyphrase-extraction\\train.py\", line 168, in <module>\n",
      "    train_data = data_loader.load_data('train/sentence.txt')\n",
      "  File \"C:\\Users\\Harsh\\Desktop\\BERT-keyphrase-extraction\\data_loader.py\", line 85, in load_data\n",
      "    raise ValueError(\"data type not in ['train', 'val', 'test']\")\n",
      "ValueError: data type not in ['train', 'val', 'test']\n"
     ]
    }
   ],
   "source": [
    "!python train.py"
   ]
  },
  {
   "cell_type": "code",
   "execution_count": null,
   "metadata": {
    "colab": {
     "base_uri": "https://localhost:8080/"
    },
    "id": "bO5rfz7YtpHG",
    "outputId": "dd56560f-fab3-418c-b0a2-ec8a8dfe49a7"
   },
   "outputs": [],
   "source": [
    "\n",
    "!pip install folium==0.2.1\n",
    "!pip install pytorch-pretrained-BERT\n",
    "\n",
    "!pip install pytorch-crf"
   ]
  },
  {
   "cell_type": "code",
   "execution_count": null,
   "metadata": {
    "colab": {
     "base_uri": "https://localhost:8080/"
    },
    "id": "Ilmjd8VqHpMb",
    "outputId": "eec9e088-4af1-42b4-d05b-2c64c6041e15"
   },
   "outputs": [],
   "source": [
    "# Read from the txt file\n",
    "with open('tokenization.txt','r') as writer_file:\n",
    "    contents_to_write = writer_file.read()\n",
    "\n",
    "# Overwrite tokenization.py\n",
    "with open('tokenization.py','w') as file_to_overwrite:\n",
    "    file_to_overwrite.write(contents_to_write)"
   ]
  },
  {
   "cell_type": "code",
   "execution_count": null,
   "metadata": {
    "id": "gRmpUrliIgOI"
   },
   "outputs": [],
   "source": [
    "!python train.py"
   ]
  },
  {
   "cell_type": "code",
   "execution_count": null,
   "metadata": {},
   "outputs": [],
   "source": [
    "!python evaluate.py"
   ]
  },
  {
   "cell_type": "code",
   "execution_count": null,
   "metadata": {},
   "outputs": [],
   "source": [
    "!python keyphrase_task.py"
   ]
  },
  {
   "cell_type": "code",
   "execution_count": 21,
   "metadata": {},
   "outputs": [
    {
     "name": "stderr",
     "output_type": "stream",
     "text": [
      "device: cpu, n_gpu: 0, 16-bits training: False\n",
      "Loading the datasets...\n",
      "Model name 'model/' was not found in model name list (bert-base-uncased, bert-large-uncased, bert-base-cased, bert-large-cased, bert-base-multilingual-uncased, bert-base-multilingual-cased, bert-base-chinese). We assumed 'model/' was a path or url but couldn't find any file associated to this path or url.\n",
      "Traceback (most recent call last):\n",
      "  File \"C:\\Users\\Harsh\\Desktop\\BERT-keyphrase-extraction\\train.py\", line 168, in <module>\n",
      "    train_data = data_loader.load_data('train')\n",
      "  File \"C:\\Users\\Harsh\\Desktop\\BERT-keyphrase-extraction\\data_loader.py\", line 83, in load_data\n",
      "    self.load_sentences_tags(sentences_file, tags_path, data)\n",
      "  File \"C:\\Users\\Harsh\\Desktop\\BERT-keyphrase-extraction\\data_loader.py\", line 48, in load_sentences_tags\n",
      "    for line in file:\n",
      "  File \"D:\\python\\lib\\encodings\\cp1252.py\", line 23, in decode\n",
      "    return codecs.charmap_decode(input,self.errors,decoding_table)[0]\n",
      "UnicodeDecodeError: 'charmap' codec can't decode byte 0x9d in position 2667: character maps to <undefined>\n"
     ]
    }
   ],
   "source": [
    "!python train.py --data_dir data/task1/ --bert_model_dir model/ --model_dir experiments/base_model"
   ]
  },
  {
   "cell_type": "code",
   "execution_count": null,
   "metadata": {},
   "outputs": [],
   "source": []
  }
 ],
 "metadata": {
  "colab": {
   "name": "BERT-keyphase-extraction.ipynb",
   "provenance": []
  },
  "kernelspec": {
   "display_name": "Python 3 (ipykernel)",
   "language": "python",
   "name": "python3"
  },
  "language_info": {
   "codemirror_mode": {
    "name": "ipython",
    "version": 3
   },
   "file_extension": ".py",
   "mimetype": "text/x-python",
   "name": "python",
   "nbconvert_exporter": "python",
   "pygments_lexer": "ipython3",
   "version": "3.10.4"
  }
 },
 "nbformat": 4,
 "nbformat_minor": 1
}
