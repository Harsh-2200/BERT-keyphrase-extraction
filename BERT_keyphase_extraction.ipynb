{
 "cells": [
  {
   "cell_type": "code",
   "execution_count": null,
   "metadata": {
    "colab": {
     "base_uri": "https://localhost:8080/"
    },
    "id": "6Wcuvih8pQsB",
    "outputId": "05b07c66-1c46-41f3-c512-26bc194c6c7d"
   },
   "outputs": [],
   "source": [
    "!git clone https://github.com/Harsh-2200/BERT-keyphrase-extraction.git\n",
    "\n",
    "%cd /content/BERT-keyphrase-extraction/"
   ]
  },
  {
   "cell_type": "code",
   "execution_count": null,
   "metadata": {
    "colab": {
     "base_uri": "https://localhost:8080/"
    },
    "id": "bO5rfz7YtpHG",
    "outputId": "dd56560f-fab3-418c-b0a2-ec8a8dfe49a7"
   },
   "outputs": [],
   "source": [
    "!pip install folium==0.2.1\n",
    "!pip install pytorch-pretrained-BERT\n",
    "\n",
    "!pip install pytorch-crf"
   ]
  },
  {
   "cell_type": "code",
   "execution_count": null,
   "metadata": {
    "id": "gRmpUrliIgOI"
   },
   "outputs": [],
   "source": [
    "!python train.py"
   ]
  },
  {
   "cell_type": "code",
   "execution_count": 8,
   "metadata": {},
   "outputs": [
    {
     "name": "stderr",
     "output_type": "stream",
     "text": [
      "device: cpu, n_gpu: 0, 16-bits training: False\n",
      "Loading the datasets...\n",
      "Model name 'model/' was not found in model name list (bert-base-uncased, bert-large-uncased, bert-base-cased, bert-large-cased, bert-base-multilingual-uncased, bert-base-multilingual-cased, bert-base-chinese). We assumed 'model/vocab.txt' was a path or url but couldn't find any file associated to this path or url.\n",
      "Traceback (most recent call last):\n",
      "  File \"C:\\Users\\Harsh\\Desktop\\BERT-keyphrase-extraction\\train.py\", line 168, in <module>\n",
      "    train_data = data_loader.load_data('train')\n",
      "  File \"C:\\Users\\Harsh\\Desktop\\BERT-keyphrase-extraction\\data_loader.py\", line 84, in load_data\n",
      "    self.load_sentences_tags(sentences_file, tags_path, data)\n",
      "  File \"C:\\Users\\Harsh\\Desktop\\BERT-keyphrase-extraction\\data_loader.py\", line 48, in load_sentences_tags\n",
      "    for line in file:\n",
      "  File \"D:\\python\\lib\\encodings\\cp1252.py\", line 23, in decode\n",
      "    return codecs.charmap_decode(input,self.errors,decoding_table)[0]\n",
      "UnicodeDecodeError: 'charmap' codec can't decode byte 0x9d in position 2671: character maps to <undefined>\n"
     ]
    }
   ],
   "source": [
    "!python train.py --data_dir data/task1/ --bert_model_dir model/ --model_dir experiments/base_model"
   ]
  },
  {
   "cell_type": "code",
   "execution_count": null,
   "metadata": {},
   "outputs": [],
   "source": []
  }
 ],
 "metadata": {
  "colab": {
   "name": "BERT-keyphase-extraction.ipynb",
   "provenance": []
  },
  "kernelspec": {
   "display_name": "Python 3 (ipykernel)",
   "language": "python",
   "name": "python3"
  },
  "language_info": {
   "codemirror_mode": {
    "name": "ipython",
    "version": 3
   },
   "file_extension": ".py",
   "mimetype": "text/x-python",
   "name": "python",
   "nbconvert_exporter": "python",
   "pygments_lexer": "ipython3",
   "version": "3.10.4"
  }
 },
 "nbformat": 4,
 "nbformat_minor": 1
}
