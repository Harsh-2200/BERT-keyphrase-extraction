{
 "cells": [
  {
   "cell_type": "code",
   "execution_count": null,
   "metadata": {
    "colab": {
     "base_uri": "https://localhost:8080/"
    },
    "id": "6Wcuvih8pQsB",
    "outputId": "05b07c66-1c46-41f3-c512-26bc194c6c7d"
   },
   "outputs": [],
   "source": [
    "!git clone https://github.com/Harsh-2200/BERT-keyphrase-extraction.git\n",
    "\n",
    "%cd /content/BERT-keyphrase-extraction/"
   ]
  },
  {
   "cell_type": "code",
   "execution_count": 1,
   "metadata": {
    "colab": {
     "base_uri": "https://localhost:8080/"
    },
    "id": "bO5rfz7YtpHG",
    "outputId": "dd56560f-fab3-418c-b0a2-ec8a8dfe49a7"
   },
   "outputs": [
    {
     "name": "stdout",
     "output_type": "stream",
     "text": [
      "Requirement already satisfied: folium==0.2.1 in d:\\python\\lib\\site-packages (0.2.1)\n",
      "Requirement already satisfied: Jinja2 in d:\\python\\lib\\site-packages (from folium==0.2.1) (3.1.2)\n",
      "Requirement already satisfied: MarkupSafe>=2.0 in d:\\python\\lib\\site-packages (from Jinja2->folium==0.2.1) (2.1.1)\n"
     ]
    },
    {
     "name": "stderr",
     "output_type": "stream",
     "text": [
      "WARNING: You are using pip version 20.3.4; however, version 22.2.2 is available.\n",
      "You should consider upgrading via the 'd:\\python\\python.exe -m pip install --upgrade pip' command.\n"
     ]
    },
    {
     "name": "stdout",
     "output_type": "stream",
     "text": [
      "Requirement already satisfied: pytorch-pretrained-BERT in d:\\python\\lib\\site-packages (0.6.2)\n",
      "Requirement already satisfied: tqdm in d:\\python\\lib\\site-packages (from pytorch-pretrained-BERT) (4.64.0)\n",
      "Requirement already satisfied: numpy in d:\\python\\lib\\site-packages (from pytorch-pretrained-BERT) (1.23.1)\n",
      "Requirement already satisfied: torch>=0.4.1 in d:\\python\\lib\\site-packages (from pytorch-pretrained-BERT) (1.12.1)\n",
      "Requirement already satisfied: boto3 in d:\\python\\lib\\site-packages (from pytorch-pretrained-BERT) (1.24.54)\n",
      "Requirement already satisfied: requests in d:\\python\\lib\\site-packages (from pytorch-pretrained-BERT) (2.28.1)\n",
      "Requirement already satisfied: regex in d:\\python\\lib\\site-packages (from pytorch-pretrained-BERT) (2022.8.17)\n",
      "Requirement already satisfied: typing-extensions in d:\\python\\lib\\site-packages (from torch>=0.4.1->pytorch-pretrained-BERT) (4.3.0)\n",
      "Requirement already satisfied: botocore<1.28.0,>=1.27.54 in d:\\python\\lib\\site-packages (from boto3->pytorch-pretrained-BERT) (1.27.54)\n",
      "Requirement already satisfied: jmespath<2.0.0,>=0.7.1 in d:\\python\\lib\\site-packages (from boto3->pytorch-pretrained-BERT) (1.0.1)\n",
      "Requirement already satisfied: s3transfer<0.7.0,>=0.6.0 in d:\\python\\lib\\site-packages (from boto3->pytorch-pretrained-BERT) (0.6.0)\n",
      "Requirement already satisfied: python-dateutil<3.0.0,>=2.1 in d:\\python\\lib\\site-packages (from botocore<1.28.0,>=1.27.54->boto3->pytorch-pretrained-BERT) (2.8.2)\n",
      "Requirement already satisfied: urllib3<1.27,>=1.25.4 in d:\\python\\lib\\site-packages (from botocore<1.28.0,>=1.27.54->boto3->pytorch-pretrained-BERT) (1.26.10)\n",
      "Requirement already satisfied: six>=1.5 in d:\\python\\lib\\site-packages (from python-dateutil<3.0.0,>=2.1->botocore<1.28.0,>=1.27.54->boto3->pytorch-pretrained-BERT) (1.16.0)\n",
      "Requirement already satisfied: idna<4,>=2.5 in d:\\python\\lib\\site-packages (from requests->pytorch-pretrained-BERT) (3.3)\n",
      "Requirement already satisfied: charset-normalizer<3,>=2 in d:\\python\\lib\\site-packages (from requests->pytorch-pretrained-BERT) (2.1.0)\n",
      "Requirement already satisfied: certifi>=2017.4.17 in d:\\python\\lib\\site-packages (from requests->pytorch-pretrained-BERT) (2022.6.15)\n",
      "Requirement already satisfied: colorama in d:\\python\\lib\\site-packages (from tqdm->pytorch-pretrained-BERT) (0.4.5)\n"
     ]
    },
    {
     "name": "stderr",
     "output_type": "stream",
     "text": [
      "WARNING: You are using pip version 20.3.4; however, version 22.2.2 is available.\n",
      "You should consider upgrading via the 'd:\\python\\python.exe -m pip install --upgrade pip' command.\n"
     ]
    },
    {
     "name": "stdout",
     "output_type": "stream",
     "text": [
      "Requirement already satisfied: pytorch-crf in d:\\python\\lib\\site-packages (0.7.2)\n"
     ]
    },
    {
     "name": "stderr",
     "output_type": "stream",
     "text": [
      "WARNING: You are using pip version 20.3.4; however, version 22.2.2 is available.\n",
      "You should consider upgrading via the 'd:\\python\\python.exe -m pip install --upgrade pip' command.\n"
     ]
    }
   ],
   "source": [
    "!pip install folium==0.2.1\n",
    "!pip install pytorch-pretrained-BERT\n",
    "\n",
    "!pip install pytorch-crf"
   ]
  },
  {
   "cell_type": "code",
   "execution_count": 2,
   "metadata": {
    "id": "gRmpUrliIgOI"
   },
   "outputs": [
    {
     "name": "stderr",
     "output_type": "stream",
     "text": [
      "device: cpu, n_gpu: 0, 16-bits training: False\n",
      "Loading the datasets...\n",
      "loading vocabulary file https://s3.amazonaws.com/models.huggingface.co/bert/bert-base-uncased-vocab.txt from cache at C:\\Users\\Harsh\\.pytorch_pretrained_bert\\26bc1ad6c0ac742e9b52263248f6d0f00068293b33709fae12320c0e35ccfbbb.542ce4285a40d23a559526243235df47c5f75c197f04f37d1a0c124c32c9a084\n",
      "Traceback (most recent call last):\n",
      "  File \"C:\\Users\\Harsh\\Desktop\\BERT-keyphrase-extraction\\train.py\", line 168, in <module>\n",
      "    train_data = data_loader.load_data('train')\n",
      "  File \"C:\\Users\\Harsh\\Desktop\\BERT-keyphrase-extraction\\data_loader.py\", line 83, in load_data\n",
      "    self.load_sentences_tags(sentences_file, tags_path, data)\n",
      "  File \"C:\\Users\\Harsh\\Desktop\\BERT-keyphrase-extraction\\data_loader.py\", line 48, in load_sentences_tags\n",
      "    for line in file:\n",
      "  File \"D:\\python\\lib\\encodings\\cp1252.py\", line 23, in decode\n",
      "    return codecs.charmap_decode(input,self.errors,decoding_table)[0]\n",
      "UnicodeDecodeError: 'charmap' codec can't decode byte 0x9d in position 2671: character maps to <undefined>\n"
     ]
    }
   ],
   "source": [
    "!python train.py"
   ]
  },
  {
   "cell_type": "code",
   "execution_count": null,
   "metadata": {},
   "outputs": [],
   "source": [
    "!python evaluate.py"
   ]
  },
  {
   "cell_type": "code",
   "execution_count": null,
   "metadata": {},
   "outputs": [],
   "source": [
    "!python keyphrase_task.py"
   ]
  },
  {
   "cell_type": "code",
   "execution_count": 21,
   "metadata": {},
   "outputs": [
    {
     "name": "stderr",
     "output_type": "stream",
     "text": [
      "device: cpu, n_gpu: 0, 16-bits training: False\n",
      "Loading the datasets...\n",
      "Model name 'model/' was not found in model name list (bert-base-uncased, bert-large-uncased, bert-base-cased, bert-large-cased, bert-base-multilingual-uncased, bert-base-multilingual-cased, bert-base-chinese). We assumed 'model/' was a path or url but couldn't find any file associated to this path or url.\n",
      "Traceback (most recent call last):\n",
      "  File \"C:\\Users\\Harsh\\Desktop\\BERT-keyphrase-extraction\\train.py\", line 168, in <module>\n",
      "    train_data = data_loader.load_data('train')\n",
      "  File \"C:\\Users\\Harsh\\Desktop\\BERT-keyphrase-extraction\\data_loader.py\", line 83, in load_data\n",
      "    self.load_sentences_tags(sentences_file, tags_path, data)\n",
      "  File \"C:\\Users\\Harsh\\Desktop\\BERT-keyphrase-extraction\\data_loader.py\", line 48, in load_sentences_tags\n",
      "    for line in file:\n",
      "  File \"D:\\python\\lib\\encodings\\cp1252.py\", line 23, in decode\n",
      "    return codecs.charmap_decode(input,self.errors,decoding_table)[0]\n",
      "UnicodeDecodeError: 'charmap' codec can't decode byte 0x9d in position 2667: character maps to <undefined>\n"
     ]
    }
   ],
   "source": [
    "!python train.py --data_dir data/task1/ --bert_model_dir model/ --model_dir experiments/base_model"
   ]
  },
  {
   "cell_type": "code",
   "execution_count": null,
   "metadata": {},
   "outputs": [],
   "source": []
  }
 ],
 "metadata": {
  "colab": {
   "name": "BERT-keyphase-extraction.ipynb",
   "provenance": []
  },
  "kernelspec": {
   "display_name": "Python 3 (ipykernel)",
   "language": "python",
   "name": "python3"
  },
  "language_info": {
   "codemirror_mode": {
    "name": "ipython",
    "version": 3
   },
   "file_extension": ".py",
   "mimetype": "text/x-python",
   "name": "python",
   "nbconvert_exporter": "python",
   "pygments_lexer": "ipython3",
   "version": "3.10.4"
  }
 },
 "nbformat": 4,
 "nbformat_minor": 1
}
